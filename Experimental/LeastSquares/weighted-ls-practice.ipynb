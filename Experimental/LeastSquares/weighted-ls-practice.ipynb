{
 "cells": [
  {
   "cell_type": "markdown",
   "metadata": {},
   "source": [
    "## Introduction\n",
    "-----\n",
    "You (an electrical engineer) wish to determine the resistance of an electrical component by using Ohm's law. Using two different multimeters, you collect the following data:\n",
    "\n",
    "| Multimeter A | Multimeter B |\n",
    "|-------------|-------------|\n",
    "| 1068         | 0        |\n",
    "| 988         | 0        |\n",
    "| 0         | 1002        |\n",
    "| 0         | 996        |\n",
    "\n",
    "where $\\sigma_A$ = 20 ohms and $\\sigma_B$ = 2 ohms\n",
    "\n",
    "Your goal is to \n",
    "1. Consider what the best estimate of the resistance is, in ohms, for this component.\n",
    "\n",
    "## Getting Started\n",
    "----\n",
    "\n",
    "First we will import the neccesary Python modules and load the current and voltage measurements into numpy arrays:"
   ]
  },
  {
   "cell_type": "code",
   "execution_count": 3,
   "metadata": {},
   "outputs": [],
   "source": [
    "import numpy as np\n",
    "from numpy.linalg import inv\n",
    "import matplotlib.pyplot as plt"
   ]
  },
  {
   "cell_type": "markdown",
   "metadata": {},
   "source": [
    "## Estimating the Parameter\n",
    "----\n",
    "Let's try to estimate the resistance parameter using the weighted least squares formulation from Module 1, Lesson 1, Part 2 - \"The Squared Error Criterion and the Method of Weighted Least Squares\":\n",
    "\n",
    "\\begin{align}\n",
    "\\hat{x} = \\left(\\mathbf{H}^T\\mathbf{R}^{-1}\\mathbf{H}\\right)^{-1}\\mathbf{H}^T\\mathbf{R}^{-1}\\mathbf{y}\n",
    "\\end{align}\n",
    "\n",
    "If we know that we're looking for the slope parameter $\\hat{x}$, how do we define the jacobian matrix $\\mathbf{H}$, variance matrix $\\mathbf{R}$, and measurement vector $\\mathbf{y}$?"
   ]
  },
  {
   "cell_type": "code",
   "execution_count": 22,
   "metadata": {},
   "outputs": [
    {
     "name": "stdout",
     "output_type": "stream",
     "text": [
      "The input matrices are:\n",
      "H:\n",
      " [[1]\n",
      " [1]\n",
      " [1]\n",
      " [1]]\n",
      "R:\n",
      " [[400   0   0   0]\n",
      " [  0 400   0   0]\n",
      " [  0   0   4   0]\n",
      " [  0   0   0   4]]\n",
      "y:\n",
      " [[1068]\n",
      " [ 988]\n",
      " [1002]\n",
      " [ 996]]\n",
      "\n",
      "The resistance parameter using weighted least squares is:\n",
      "999.2871287128713\n"
     ]
    }
   ],
   "source": [
    "# Define the H matrix, what does it contain?\n",
    "# H is the conversion from measurement to parameter space, in this case all 1\n",
    "H = np.mat([1, 1, 1, 1]).T\n",
    "\n",
    "# R is the covariance of the measurements\n",
    "sigma_a = 20\n",
    "var_a = sigma_a**2\n",
    "sigma_b = 2\n",
    "var_b = sigma_b**2\n",
    "R = np.mat([[var_a, 0, 0 ,0],\n",
    "            [0, var_a, 0, 0],\n",
    "            [0, 0, var_b, 0],\n",
    "            [0, 0, 0, var_b]])\n",
    "\n",
    "# y is the measurements from each reading\n",
    "y = np.mat([1068, 988, 1002, 996]).T\n",
    "\n",
    "# Now estimate the resistance parameter.\n",
    "x_hat = np.linalg.inv(H.T*np.linalg.inv(R)*H)*H.T*np.linalg.inv(R)*y # calculate matrix\n",
    "x_hat = np.asscalar(x_hat) # convert to scalar\n",
    "\n",
    "print(\"The input matrices are:\")\n",
    "print(\"H:\\n\",H)\n",
    "print(\"R:\\n\",R)\n",
    "print(\"y:\\n\",y)\n",
    "print()\n",
    "print('The resistance parameter using weighted least squares is:')\n",
    "print(x_hat)\n"
   ]
  },
  {
   "cell_type": "markdown",
   "metadata": {},
   "source": [
    "Value given in video: 999.3"
   ]
  }
 ],
 "metadata": {
  "kernelspec": {
   "display_name": "Python 3",
   "language": "python",
   "name": "python3"
  },
  "language_info": {
   "codemirror_mode": {
    "name": "ipython",
    "version": 3
   },
   "file_extension": ".py",
   "mimetype": "text/x-python",
   "name": "python",
   "nbconvert_exporter": "python",
   "pygments_lexer": "ipython3",
   "version": "3.7.4"
  }
 },
 "nbformat": 4,
 "nbformat_minor": 2
}
